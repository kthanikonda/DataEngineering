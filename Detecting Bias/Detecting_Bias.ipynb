{
  "nbformat": 4,
  "nbformat_minor": 0,
  "metadata": {
    "colab": {
      "provenance": []
    },
    "kernelspec": {
      "name": "python3",
      "display_name": "Python 3"
    },
    "language_info": {
      "name": "python"
    }
  },
  "cells": [
    {
      "cell_type": "code",
      "execution_count": null,
      "metadata": {
        "colab": {
          "base_uri": "https://localhost:8080/"
        },
        "id": "RO3W6Q8ly5E1",
        "outputId": "d82223dd-ee63-4b45-a2ea-b36d6727397d"
      },
      "outputs": [
        {
          "output_type": "stream",
          "name": "stdout",
          "text": [
            "Requirement already satisfied: beautifulsoup4 in /usr/local/lib/python3.11/dist-packages (4.13.4)\n",
            "Requirement already satisfied: pandas in /usr/local/lib/python3.11/dist-packages (2.2.2)\n",
            "Requirement already satisfied: soupsieve>1.2 in /usr/local/lib/python3.11/dist-packages (from beautifulsoup4) (2.7)\n",
            "Requirement already satisfied: typing-extensions>=4.0.0 in /usr/local/lib/python3.11/dist-packages (from beautifulsoup4) (4.13.2)\n",
            "Requirement already satisfied: numpy>=1.23.2 in /usr/local/lib/python3.11/dist-packages (from pandas) (2.0.2)\n",
            "Requirement already satisfied: python-dateutil>=2.8.2 in /usr/local/lib/python3.11/dist-packages (from pandas) (2.9.0.post0)\n",
            "Requirement already satisfied: pytz>=2020.1 in /usr/local/lib/python3.11/dist-packages (from pandas) (2025.2)\n",
            "Requirement already satisfied: tzdata>=2022.7 in /usr/local/lib/python3.11/dist-packages (from pandas) (2025.2)\n",
            "Requirement already satisfied: six>=1.5 in /usr/local/lib/python3.11/dist-packages (from python-dateutil>=2.8.2->pandas) (1.17.0)\n"
          ]
        }
      ],
      "source": [
        "!pip install beautifulsoup4 pandas"
      ]
    },
    {
      "cell_type": "code",
      "source": [
        "from google.colab import files\n",
        "import shutil\n",
        "import os\n",
        "\n",
        "uploaded = files.upload()\n",
        "\n",
        "file_name = next(iter(uploaded))\n",
        "file_size = os.path.getsize(file_name)\n",
        "shutil.move('trimet_stopevents_2022-12-07.html', '/content/trimet_stopevents_2022-12-07.html')"
      ],
      "metadata": {
        "colab": {
          "base_uri": "https://localhost:8080/",
          "height": 92
        },
        "id": "417t02sd8TYn",
        "outputId": "37fbc49f-cf0b-4f7c-f241-a9a32e321e74"
      },
      "execution_count": null,
      "outputs": [
        {
          "output_type": "display_data",
          "data": {
            "text/plain": [
              "<IPython.core.display.HTML object>"
            ],
            "text/html": [
              "\n",
              "     <input type=\"file\" id=\"files-ecbfd634-5d08-4a51-ba67-b406c85d74c0\" name=\"files[]\" multiple disabled\n",
              "        style=\"border:none\" />\n",
              "     <output id=\"result-ecbfd634-5d08-4a51-ba67-b406c85d74c0\">\n",
              "      Upload widget is only available when the cell has been executed in the\n",
              "      current browser session. Please rerun this cell to enable.\n",
              "      </output>\n",
              "      <script>// Copyright 2017 Google LLC\n",
              "//\n",
              "// Licensed under the Apache License, Version 2.0 (the \"License\");\n",
              "// you may not use this file except in compliance with the License.\n",
              "// You may obtain a copy of the License at\n",
              "//\n",
              "//      http://www.apache.org/licenses/LICENSE-2.0\n",
              "//\n",
              "// Unless required by applicable law or agreed to in writing, software\n",
              "// distributed under the License is distributed on an \"AS IS\" BASIS,\n",
              "// WITHOUT WARRANTIES OR CONDITIONS OF ANY KIND, either express or implied.\n",
              "// See the License for the specific language governing permissions and\n",
              "// limitations under the License.\n",
              "\n",
              "/**\n",
              " * @fileoverview Helpers for google.colab Python module.\n",
              " */\n",
              "(function(scope) {\n",
              "function span(text, styleAttributes = {}) {\n",
              "  const element = document.createElement('span');\n",
              "  element.textContent = text;\n",
              "  for (const key of Object.keys(styleAttributes)) {\n",
              "    element.style[key] = styleAttributes[key];\n",
              "  }\n",
              "  return element;\n",
              "}\n",
              "\n",
              "// Max number of bytes which will be uploaded at a time.\n",
              "const MAX_PAYLOAD_SIZE = 100 * 1024;\n",
              "\n",
              "function _uploadFiles(inputId, outputId) {\n",
              "  const steps = uploadFilesStep(inputId, outputId);\n",
              "  const outputElement = document.getElementById(outputId);\n",
              "  // Cache steps on the outputElement to make it available for the next call\n",
              "  // to uploadFilesContinue from Python.\n",
              "  outputElement.steps = steps;\n",
              "\n",
              "  return _uploadFilesContinue(outputId);\n",
              "}\n",
              "\n",
              "// This is roughly an async generator (not supported in the browser yet),\n",
              "// where there are multiple asynchronous steps and the Python side is going\n",
              "// to poll for completion of each step.\n",
              "// This uses a Promise to block the python side on completion of each step,\n",
              "// then passes the result of the previous step as the input to the next step.\n",
              "function _uploadFilesContinue(outputId) {\n",
              "  const outputElement = document.getElementById(outputId);\n",
              "  const steps = outputElement.steps;\n",
              "\n",
              "  const next = steps.next(outputElement.lastPromiseValue);\n",
              "  return Promise.resolve(next.value.promise).then((value) => {\n",
              "    // Cache the last promise value to make it available to the next\n",
              "    // step of the generator.\n",
              "    outputElement.lastPromiseValue = value;\n",
              "    return next.value.response;\n",
              "  });\n",
              "}\n",
              "\n",
              "/**\n",
              " * Generator function which is called between each async step of the upload\n",
              " * process.\n",
              " * @param {string} inputId Element ID of the input file picker element.\n",
              " * @param {string} outputId Element ID of the output display.\n",
              " * @return {!Iterable<!Object>} Iterable of next steps.\n",
              " */\n",
              "function* uploadFilesStep(inputId, outputId) {\n",
              "  const inputElement = document.getElementById(inputId);\n",
              "  inputElement.disabled = false;\n",
              "\n",
              "  const outputElement = document.getElementById(outputId);\n",
              "  outputElement.innerHTML = '';\n",
              "\n",
              "  const pickedPromise = new Promise((resolve) => {\n",
              "    inputElement.addEventListener('change', (e) => {\n",
              "      resolve(e.target.files);\n",
              "    });\n",
              "  });\n",
              "\n",
              "  const cancel = document.createElement('button');\n",
              "  inputElement.parentElement.appendChild(cancel);\n",
              "  cancel.textContent = 'Cancel upload';\n",
              "  const cancelPromise = new Promise((resolve) => {\n",
              "    cancel.onclick = () => {\n",
              "      resolve(null);\n",
              "    };\n",
              "  });\n",
              "\n",
              "  // Wait for the user to pick the files.\n",
              "  const files = yield {\n",
              "    promise: Promise.race([pickedPromise, cancelPromise]),\n",
              "    response: {\n",
              "      action: 'starting',\n",
              "    }\n",
              "  };\n",
              "\n",
              "  cancel.remove();\n",
              "\n",
              "  // Disable the input element since further picks are not allowed.\n",
              "  inputElement.disabled = true;\n",
              "\n",
              "  if (!files) {\n",
              "    return {\n",
              "      response: {\n",
              "        action: 'complete',\n",
              "      }\n",
              "    };\n",
              "  }\n",
              "\n",
              "  for (const file of files) {\n",
              "    const li = document.createElement('li');\n",
              "    li.append(span(file.name, {fontWeight: 'bold'}));\n",
              "    li.append(span(\n",
              "        `(${file.type || 'n/a'}) - ${file.size} bytes, ` +\n",
              "        `last modified: ${\n",
              "            file.lastModifiedDate ? file.lastModifiedDate.toLocaleDateString() :\n",
              "                                    'n/a'} - `));\n",
              "    const percent = span('0% done');\n",
              "    li.appendChild(percent);\n",
              "\n",
              "    outputElement.appendChild(li);\n",
              "\n",
              "    const fileDataPromise = new Promise((resolve) => {\n",
              "      const reader = new FileReader();\n",
              "      reader.onload = (e) => {\n",
              "        resolve(e.target.result);\n",
              "      };\n",
              "      reader.readAsArrayBuffer(file);\n",
              "    });\n",
              "    // Wait for the data to be ready.\n",
              "    let fileData = yield {\n",
              "      promise: fileDataPromise,\n",
              "      response: {\n",
              "        action: 'continue',\n",
              "      }\n",
              "    };\n",
              "\n",
              "    // Use a chunked sending to avoid message size limits. See b/62115660.\n",
              "    let position = 0;\n",
              "    do {\n",
              "      const length = Math.min(fileData.byteLength - position, MAX_PAYLOAD_SIZE);\n",
              "      const chunk = new Uint8Array(fileData, position, length);\n",
              "      position += length;\n",
              "\n",
              "      const base64 = btoa(String.fromCharCode.apply(null, chunk));\n",
              "      yield {\n",
              "        response: {\n",
              "          action: 'append',\n",
              "          file: file.name,\n",
              "          data: base64,\n",
              "        },\n",
              "      };\n",
              "\n",
              "      let percentDone = fileData.byteLength === 0 ?\n",
              "          100 :\n",
              "          Math.round((position / fileData.byteLength) * 100);\n",
              "      percent.textContent = `${percentDone}% done`;\n",
              "\n",
              "    } while (position < fileData.byteLength);\n",
              "  }\n",
              "\n",
              "  // All done.\n",
              "  yield {\n",
              "    response: {\n",
              "      action: 'complete',\n",
              "    }\n",
              "  };\n",
              "}\n",
              "\n",
              "scope.google = scope.google || {};\n",
              "scope.google.colab = scope.google.colab || {};\n",
              "scope.google.colab._files = {\n",
              "  _uploadFiles,\n",
              "  _uploadFilesContinue,\n",
              "};\n",
              "})(self);\n",
              "</script> "
            ]
          },
          "metadata": {}
        },
        {
          "output_type": "stream",
          "name": "stdout",
          "text": [
            "Saving trimet_stopevents_2022-12-07.html to trimet_stopevents_2022-12-07.html\n"
          ]
        },
        {
          "output_type": "execute_result",
          "data": {
            "text/plain": [
              "'/content/trimet_stopevents_2022-12-07.html'"
            ],
            "application/vnd.google.colaboratory.intrinsic+json": {
              "type": "string"
            }
          },
          "metadata": {},
          "execution_count": 10
        }
      ]
    },
    {
      "cell_type": "code",
      "source": [
        "import pandas as pd\n",
        "from bs4 import BeautifulSoup\n",
        "from io import StringIO"
      ],
      "metadata": {
        "id": "--Apj8WeZWzO"
      },
      "execution_count": null,
      "outputs": []
    },
    {
      "cell_type": "code",
      "source": [
        "file_name = '/content/trimet_stopevents_2022-12-07.html'\n",
        "\n",
        "with open(file_name, 'r') as f:\n",
        "    html_content = f.read()\n",
        "soup = BeautifulSoup(html_content, 'html.parser')\n"
      ],
      "metadata": {
        "id": "YHdpvZhEcUTq"
      },
      "execution_count": null,
      "outputs": []
    },
    {
      "cell_type": "code",
      "source": [
        "from datetime import datetime, timedelta\n",
        "initial_date = datetime(2020, 1, 1)\n",
        "\n",
        "all_records = []\n",
        "\n",
        "trip_headings = soup.find_all('h2')\n",
        "\n",
        "for heading in trip_headings:\n",
        "    trip_id = heading.text.split()[-1]\n",
        "    table = heading.find_next_sibling('table')\n",
        "    if not table:\n",
        "        continue\n",
        "\n",
        "    headers = [th.text.strip() for th in table.find_all('th')]\n",
        "\n",
        "    for row in table.find_all('tr')[1:]:\n",
        "        cells = row.find_all('td')\n",
        "        if len(cells) == len(headers):\n",
        "            record = [cell.text.strip() for cell in cells]\n",
        "            record_dict = dict(zip(headers, record))\n",
        "            record_dict['trip_id'] = trip_id\n",
        "            all_records.append(record_dict)\n",
        "\n",
        "stops_df = pd.DataFrame(all_records)\n",
        "\n",
        "stops_df['arrive_time'] = pd.to_numeric(stops_df['arrive_time'])\n",
        "stops_df['tstamp'] = stops_df['arrive_time'].apply(lambda x: initial_date + timedelta(seconds=x))\n",
        "\n",
        "stops_df['vehicle_number'] = stops_df['vehicle_number'].astype(str)\n",
        "stops_df['trip_id'] = stops_df['trip_id'].astype(str)\n",
        "stops_df['location_id'] = stops_df['location_id'].astype(str)\n",
        "stops_df['ons'] = pd.to_numeric(stops_df['ons'])\n",
        "stops_df['offs'] = pd.to_numeric(stops_df['offs'])\n"
      ],
      "metadata": {
        "id": "YvcCPg_7dz7-"
      },
      "execution_count": null,
      "outputs": []
    },
    {
      "cell_type": "code",
      "source": [
        "stops_df = stops_df[['trip_id', 'vehicle_number', 'tstamp', 'location_id', 'ons', 'offs']]\n",
        "\n",
        "print(f\"Number of stop events: {len(stops_df)}\")\n",
        "\n",
        "num_vehicles = stops_df['vehicle_number'].nunique()\n",
        "print(f\"Number of Vechicles: {(num_vehicles)}\")\n",
        "\n",
        "stop_locations = stops_df['location_id'].nunique()\n",
        "print(f\"Number of Stop Locations: {(stop_locations)}\")\n",
        "\n",
        "min_tstamp = stops_df['tstamp'].min()\n",
        "print(f\"Minimum Timestamp: {(min_tstamp)}\")\n",
        "\n",
        "max_tstamp = stops_df['tstamp'].max()\n",
        "print(f\"Maximum Timestamp: {(max_tstamp)}\")\n",
        "\n",
        "boarding_stopevents = (stops_df['ons'] >= 1).sum()\n",
        "print(f\"Number of stop events with at least one passenger boarding: {boarding_stopevents}\")\n",
        "\n",
        "percentage_boarding_stopevents = (boarding_stopevents / len(stops_df)) * 100\n",
        "print(f\"Percentage of stop events with at least one passenger boarding: {percentage_boarding_stopevents}\")"
      ],
      "metadata": {
        "colab": {
          "base_uri": "https://localhost:8080/"
        },
        "id": "-4-tlYIqedAv",
        "outputId": "ad66b659-294a-4fc2-b6c3-6b155957f775"
      },
      "execution_count": null,
      "outputs": [
        {
          "output_type": "stream",
          "name": "stdout",
          "text": [
            "Number of stop events: 93912\n",
            "Number of Vechicles: 158\n",
            "Number of Stop Locations: 4354\n",
            "Minimum Timestamp: 2020-01-01 04:02:29\n",
            "Maximum Timestamp: 2020-01-02 02:37:41\n",
            "Number of stop events with at least one passenger boarding: 19858\n",
            "Percentage of stop events with at least one passenger boarding: 21.14532754067638\n"
          ]
        }
      ]
    },
    {
      "cell_type": "code",
      "source": [
        "location_6913 = stops_df[stops_df['location_id'] == '6913']\n",
        "print(f\"Number of stops made at 6913 location  : {len(location_6913)}\")\n",
        "\n",
        "buses_stoped = location_6913['vehicle_number'].nunique()\n",
        "print(f\"Number of different buses stopped at this location  : {(buses_stoped)}\")\n",
        "\n",
        "stops_with_boarding = (location_6913['ons'] >= 1).sum()\n",
        "print(f\"Number of stops at this location with at least one passenger boarding: {stops_with_boarding}\")\n",
        "\n",
        "percentage_buses_stoped = (stops_with_boarding  / len(location_6913)) * 100\n",
        "print(f\"Percentage of stops at this location did at least one passenger board: {percentage_buses_stoped}\")\n"
      ],
      "metadata": {
        "colab": {
          "base_uri": "https://localhost:8080/"
        },
        "id": "QMZEAx2hlDNf",
        "outputId": "1a2f0688-7ecb-4675-c57f-eabfe339bfd4"
      },
      "execution_count": null,
      "outputs": [
        {
          "output_type": "stream",
          "name": "stdout",
          "text": [
            "Number of stops made at 6913 location  : 15\n",
            "Number of different buses stopped at this location  : 5\n",
            "Number of stops at this location with at least one passenger boarding: 2\n",
            "Percentage of stops at this location did at least one passenger board: 13.333333333333334\n"
          ]
        }
      ]
    },
    {
      "cell_type": "code",
      "source": [
        "vehicle_4062 = stops_df[stops_df['vehicle_number'] == '4062']\n",
        "print(f\"Number of stops made by 4062 vechile: {len(vehicle_4062)}\")\n",
        "\n",
        "passengers_boarded = vehicle_4062['ons'].sum()\n",
        "print(f\"Number of passengers boarded the bus: {(passengers_boarded)}\")\n",
        "\n",
        "passengers_deboarded = vehicle_4062['offs'].sum()\n",
        "print(f\"Number of passengers deboarded the bus: {(passengers_deboarded)}\")\n",
        "\n",
        "passenges_boarding_1 = (vehicle_4062['ons'] >= 1).sum()\n",
        "print(f\"Number of passengers boarded 4062 vehicle’s stop events did at least one passenger board: {passenges_boarding_1 }\")\n",
        "\n",
        "percentage_onboard = (passenges_boarding_1  / len(vehicle_4062)) * 100\n",
        "print(f\"Percentage of 4062 vehicle’s stop events did at least one passenger board: {percentage_onboard}\")\n"
      ],
      "metadata": {
        "colab": {
          "base_uri": "https://localhost:8080/"
        },
        "id": "gEnjWmQ5oxX2",
        "outputId": "be09ebf7-af74-4116-e2a6-c777052eb0cc"
      },
      "execution_count": null,
      "outputs": [
        {
          "output_type": "stream",
          "name": "stdout",
          "text": [
            "Number of stops made by 4062 vechile: 68\n",
            "Number of passengers boarded the bus: 26\n",
            "Number of passengers deboarded the bus: 26\n",
            "Number of passengers boarded 4062 vehicle’s stop events did at least one passenger board: 11\n",
            "Percentage of 4062 vehicle’s stop events did at least one passenger board: 16.176470588235293\n"
          ]
        }
      ]
    },
    {
      "cell_type": "code",
      "source": [
        "! pip install scipy"
      ],
      "metadata": {
        "colab": {
          "base_uri": "https://localhost:8080/"
        },
        "id": "eEH9W9XZr3pI",
        "outputId": "1a235dca-b280-4e7b-f316-1aed6ee324ad"
      },
      "execution_count": 96,
      "outputs": [
        {
          "output_type": "stream",
          "name": "stdout",
          "text": [
            "Requirement already satisfied: scipy in /usr/local/lib/python3.11/dist-packages (1.15.3)\n",
            "Requirement already satisfied: numpy<2.5,>=1.23.5 in /usr/local/lib/python3.11/dist-packages (from scipy) (2.0.2)\n"
          ]
        }
      ]
    },
    {
      "cell_type": "code",
      "source": [
        "from scipy.stats import binomtest\n",
        "\n",
        "total_no_of_stop_events = len(stops_df)\n",
        "\n",
        "total_no_of_bus_events = (stops_df['ons'] >= 1).sum()\n",
        "\n",
        "percentage_boarding = total_no_of_bus_events / total_no_of_stop_events\n",
        "print(f\"Percentage of stop events with boardings: {percentage_boarding}\")\n",
        "\n",
        "biased_buses = []\n",
        "\n",
        "for vehicle_id, group in stops_df.groupby('vehicle_number'):\n",
        "    total_stops = len(group)\n",
        "    boarding_stops = (group['ons'] >= 1).sum()\n",
        "\n",
        "    # Perform binomial test\n",
        "    result = binomtest(boarding_stops, total_stops, percentage_boarding)\n",
        "\n",
        "    if result.pvalue < 0.05:\n",
        "        biased_buses.append({\n",
        "            'vehicle_number': vehicle_id,\n",
        "            'total_stops': total_stops,\n",
        "            'boarding_stops': boarding_stops,\n",
        "            'boarding_rate': boarding_stops / total_stops,\n",
        "            'p_value': result.pvalue\n",
        "        })\n",
        "\n",
        "biased_df = pd.DataFrame(biased_buses)\n",
        "print(\"\\n Vehicles with biased boarding data p < 0.05:\")\n",
        "print(biased_df[['vehicle_number', 'total_stops', 'boarding_stops','boarding_rate','p_value']])"
      ],
      "metadata": {
        "colab": {
          "base_uri": "https://localhost:8080/"
        },
        "id": "WToBZRWcsLeV",
        "outputId": "1ee5c526-89b8-49b6-d033-1efa9fa3d55b"
      },
      "execution_count": 122,
      "outputs": [
        {
          "output_type": "stream",
          "name": "stdout",
          "text": [
            "Percentage of stop events with boardings: 0.21145327540676379\n",
            "\n",
            " Vehicles with biased boarding data p < 0.05:\n",
            "  vehicle_number  total_stops  boarding_stops  boarding_rate   p_value\n",
            "0           3530          576             100       0.173611  0.028077\n",
            "1           3634          409              70       0.171149  0.045715\n",
            "2           3733          709             128       0.180536  0.043074\n",
            "3           3915          662             115       0.173716  0.017249\n",
            "4           3963          405              68       0.167901  0.033011\n"
          ]
        }
      ]
    },
    {
      "cell_type": "code",
      "source": [
        "from google.colab import files\n",
        "import shutil\n",
        "import os\n",
        "\n",
        "uploaded = files.upload()\n",
        "\n",
        "file_name = next(iter(uploaded))\n",
        "file_size = os.path.getsize(file_name)\n",
        "shutil.move('trimet_relpos_2022-12-07.csv', '/content/trimet_relpos_2022-12-07.csv')"
      ],
      "metadata": {
        "colab": {
          "base_uri": "https://localhost:8080/",
          "height": 92
        },
        "id": "WQpkrw-4-bAU",
        "outputId": "58e605da-002b-460a-ec7f-07c1ea747cc1"
      },
      "execution_count": 124,
      "outputs": [
        {
          "output_type": "display_data",
          "data": {
            "text/plain": [
              "<IPython.core.display.HTML object>"
            ],
            "text/html": [
              "\n",
              "     <input type=\"file\" id=\"files-f9a7ce2e-6121-4ec2-9d4c-0875bd69ce06\" name=\"files[]\" multiple disabled\n",
              "        style=\"border:none\" />\n",
              "     <output id=\"result-f9a7ce2e-6121-4ec2-9d4c-0875bd69ce06\">\n",
              "      Upload widget is only available when the cell has been executed in the\n",
              "      current browser session. Please rerun this cell to enable.\n",
              "      </output>\n",
              "      <script>// Copyright 2017 Google LLC\n",
              "//\n",
              "// Licensed under the Apache License, Version 2.0 (the \"License\");\n",
              "// you may not use this file except in compliance with the License.\n",
              "// You may obtain a copy of the License at\n",
              "//\n",
              "//      http://www.apache.org/licenses/LICENSE-2.0\n",
              "//\n",
              "// Unless required by applicable law or agreed to in writing, software\n",
              "// distributed under the License is distributed on an \"AS IS\" BASIS,\n",
              "// WITHOUT WARRANTIES OR CONDITIONS OF ANY KIND, either express or implied.\n",
              "// See the License for the specific language governing permissions and\n",
              "// limitations under the License.\n",
              "\n",
              "/**\n",
              " * @fileoverview Helpers for google.colab Python module.\n",
              " */\n",
              "(function(scope) {\n",
              "function span(text, styleAttributes = {}) {\n",
              "  const element = document.createElement('span');\n",
              "  element.textContent = text;\n",
              "  for (const key of Object.keys(styleAttributes)) {\n",
              "    element.style[key] = styleAttributes[key];\n",
              "  }\n",
              "  return element;\n",
              "}\n",
              "\n",
              "// Max number of bytes which will be uploaded at a time.\n",
              "const MAX_PAYLOAD_SIZE = 100 * 1024;\n",
              "\n",
              "function _uploadFiles(inputId, outputId) {\n",
              "  const steps = uploadFilesStep(inputId, outputId);\n",
              "  const outputElement = document.getElementById(outputId);\n",
              "  // Cache steps on the outputElement to make it available for the next call\n",
              "  // to uploadFilesContinue from Python.\n",
              "  outputElement.steps = steps;\n",
              "\n",
              "  return _uploadFilesContinue(outputId);\n",
              "}\n",
              "\n",
              "// This is roughly an async generator (not supported in the browser yet),\n",
              "// where there are multiple asynchronous steps and the Python side is going\n",
              "// to poll for completion of each step.\n",
              "// This uses a Promise to block the python side on completion of each step,\n",
              "// then passes the result of the previous step as the input to the next step.\n",
              "function _uploadFilesContinue(outputId) {\n",
              "  const outputElement = document.getElementById(outputId);\n",
              "  const steps = outputElement.steps;\n",
              "\n",
              "  const next = steps.next(outputElement.lastPromiseValue);\n",
              "  return Promise.resolve(next.value.promise).then((value) => {\n",
              "    // Cache the last promise value to make it available to the next\n",
              "    // step of the generator.\n",
              "    outputElement.lastPromiseValue = value;\n",
              "    return next.value.response;\n",
              "  });\n",
              "}\n",
              "\n",
              "/**\n",
              " * Generator function which is called between each async step of the upload\n",
              " * process.\n",
              " * @param {string} inputId Element ID of the input file picker element.\n",
              " * @param {string} outputId Element ID of the output display.\n",
              " * @return {!Iterable<!Object>} Iterable of next steps.\n",
              " */\n",
              "function* uploadFilesStep(inputId, outputId) {\n",
              "  const inputElement = document.getElementById(inputId);\n",
              "  inputElement.disabled = false;\n",
              "\n",
              "  const outputElement = document.getElementById(outputId);\n",
              "  outputElement.innerHTML = '';\n",
              "\n",
              "  const pickedPromise = new Promise((resolve) => {\n",
              "    inputElement.addEventListener('change', (e) => {\n",
              "      resolve(e.target.files);\n",
              "    });\n",
              "  });\n",
              "\n",
              "  const cancel = document.createElement('button');\n",
              "  inputElement.parentElement.appendChild(cancel);\n",
              "  cancel.textContent = 'Cancel upload';\n",
              "  const cancelPromise = new Promise((resolve) => {\n",
              "    cancel.onclick = () => {\n",
              "      resolve(null);\n",
              "    };\n",
              "  });\n",
              "\n",
              "  // Wait for the user to pick the files.\n",
              "  const files = yield {\n",
              "    promise: Promise.race([pickedPromise, cancelPromise]),\n",
              "    response: {\n",
              "      action: 'starting',\n",
              "    }\n",
              "  };\n",
              "\n",
              "  cancel.remove();\n",
              "\n",
              "  // Disable the input element since further picks are not allowed.\n",
              "  inputElement.disabled = true;\n",
              "\n",
              "  if (!files) {\n",
              "    return {\n",
              "      response: {\n",
              "        action: 'complete',\n",
              "      }\n",
              "    };\n",
              "  }\n",
              "\n",
              "  for (const file of files) {\n",
              "    const li = document.createElement('li');\n",
              "    li.append(span(file.name, {fontWeight: 'bold'}));\n",
              "    li.append(span(\n",
              "        `(${file.type || 'n/a'}) - ${file.size} bytes, ` +\n",
              "        `last modified: ${\n",
              "            file.lastModifiedDate ? file.lastModifiedDate.toLocaleDateString() :\n",
              "                                    'n/a'} - `));\n",
              "    const percent = span('0% done');\n",
              "    li.appendChild(percent);\n",
              "\n",
              "    outputElement.appendChild(li);\n",
              "\n",
              "    const fileDataPromise = new Promise((resolve) => {\n",
              "      const reader = new FileReader();\n",
              "      reader.onload = (e) => {\n",
              "        resolve(e.target.result);\n",
              "      };\n",
              "      reader.readAsArrayBuffer(file);\n",
              "    });\n",
              "    // Wait for the data to be ready.\n",
              "    let fileData = yield {\n",
              "      promise: fileDataPromise,\n",
              "      response: {\n",
              "        action: 'continue',\n",
              "      }\n",
              "    };\n",
              "\n",
              "    // Use a chunked sending to avoid message size limits. See b/62115660.\n",
              "    let position = 0;\n",
              "    do {\n",
              "      const length = Math.min(fileData.byteLength - position, MAX_PAYLOAD_SIZE);\n",
              "      const chunk = new Uint8Array(fileData, position, length);\n",
              "      position += length;\n",
              "\n",
              "      const base64 = btoa(String.fromCharCode.apply(null, chunk));\n",
              "      yield {\n",
              "        response: {\n",
              "          action: 'append',\n",
              "          file: file.name,\n",
              "          data: base64,\n",
              "        },\n",
              "      };\n",
              "\n",
              "      let percentDone = fileData.byteLength === 0 ?\n",
              "          100 :\n",
              "          Math.round((position / fileData.byteLength) * 100);\n",
              "      percent.textContent = `${percentDone}% done`;\n",
              "\n",
              "    } while (position < fileData.byteLength);\n",
              "  }\n",
              "\n",
              "  // All done.\n",
              "  yield {\n",
              "    response: {\n",
              "      action: 'complete',\n",
              "    }\n",
              "  };\n",
              "}\n",
              "\n",
              "scope.google = scope.google || {};\n",
              "scope.google.colab = scope.google.colab || {};\n",
              "scope.google.colab._files = {\n",
              "  _uploadFiles,\n",
              "  _uploadFilesContinue,\n",
              "};\n",
              "})(self);\n",
              "</script> "
            ]
          },
          "metadata": {}
        },
        {
          "output_type": "stream",
          "name": "stdout",
          "text": [
            "Saving trimet_relpos_2022-12-07.csv to trimet_relpos_2022-12-07.csv\n"
          ]
        },
        {
          "output_type": "execute_result",
          "data": {
            "text/plain": [
              "'/content/trimet_relpos_2022-12-07.csv'"
            ],
            "application/vnd.google.colaboratory.intrinsic+json": {
              "type": "string"
            }
          },
          "metadata": {},
          "execution_count": 124
        }
      ]
    },
    {
      "cell_type": "code",
      "source": [
        "import pandas as pd\n",
        "from scipy.stats import ttest_ind\n",
        "\n",
        "gps_df = pd.read_csv(\"trimet_relpos_2022-12-07.csv\")\n",
        "\n",
        "biased_vehicles = []\n",
        "\n",
        "all_relpos = gps_df['RELPOS'].values\n",
        "\n",
        "for vehicle_id, group in gps_df.groupby('VEHICLE_NUMBER'):\n",
        "    vehicle_relpos = group['RELPOS'].values\n",
        "\n",
        "    t_stat, p_value = ttest_ind(vehicle_relpos, all_relpos, equal_var=False)\n",
        "\n",
        "    if p_value < 0.005:\n",
        "        biased_vehicles.append({\n",
        "            'vehicle_id': vehicle_id,\n",
        "            'num_points': len(vehicle_relpos),\n",
        "            'mean_relpos': vehicle_relpos.mean(),\n",
        "            'p_value': p_value\n",
        "        })\n",
        "\n",
        "biased_df = pd.DataFrame(biased_vehicles)\n",
        "\n",
        "print(\"\\nVehicles with biased RELPOS data (p < 0.005):\")\n",
        "print(biased_df[['vehicle_id', 'num_points', 'mean_relpos', 'p_value']])\n"
      ],
      "metadata": {
        "colab": {
          "base_uri": "https://localhost:8080/"
        },
        "id": "hYK6TJPN9UP-",
        "outputId": "1b926ad7-e55c-4326-d86b-1ebc0fa4d789"
      },
      "execution_count": 131,
      "outputs": [
        {
          "output_type": "stream",
          "name": "stdout",
          "text": [
            "\n",
            "Vehicles with biased RELPOS data (p < 0.005):\n",
            "   vehicle_id  num_points  mean_relpos   p_value\n",
            "0        3638       10968     6.033647  0.000000\n",
            "1        3804       12491     5.977343  0.000000\n",
            "2        4024       12119    -0.180383  0.004008\n",
            "3        4305        5770    -6.171029  0.000000\n"
          ]
        }
      ]
    },
    {
      "cell_type": "code",
      "source": [
        "from scipy.stats import chi2_contingency\n",
        "\n",
        "total_ons = stops_df['ons'].sum()\n",
        "total_offs = stops_df['offs'].sum()\n",
        "\n",
        "biased_vehicles_ons_offs = []\n",
        "\n",
        "for vehicle_id, group in stops_df.groupby('vehicle_number'):\n",
        "    bus_ons = group['ons'].sum()\n",
        "    bus_offs = group['offs'].sum()\n",
        "\n",
        "    contingency_table = [\n",
        "        [bus_ons, bus_offs],\n",
        "        [total_ons - bus_ons, total_offs - bus_offs]\n",
        "    ]\n",
        "\n",
        "    chi2, p_value, _, _ = chi2_contingency(contingency_table)\n",
        "\n",
        "    if p_value < 0.05:\n",
        "        biased_vehicles_ons_offs.append({\n",
        "            'vehicle_id': vehicle_id,\n",
        "            'num_ons': bus_ons,\n",
        "            'num_offs': bus_offs,\n",
        "            'p_value': p_value\n",
        "        })\n",
        "\n",
        "biased_ons_offs_df = pd.DataFrame(biased_vehicles_ons_offs)\n",
        "\n",
        "print(\"\\nVehicles with biased ons/offs data (p < 0.05):\")\n",
        "print(biased_ons_offs_df[['vehicle_id', 'num_ons', 'num_offs', 'p_value']])\n"
      ],
      "metadata": {
        "colab": {
          "base_uri": "https://localhost:8080/"
        },
        "id": "znjBrgkpGoQr",
        "outputId": "3c12e566-21a0-460e-d4cd-f492a1db29cd"
      },
      "execution_count": 138,
      "outputs": [
        {
          "output_type": "stream",
          "name": "stdout",
          "text": [
            "\n",
            "Vehicles with biased ons/offs data (p < 0.05):\n",
            "  vehicle_id  num_ons  num_offs   p_value\n",
            "0       3056      517       457  0.030134\n",
            "1       3576      379       322  0.018783\n"
          ]
        }
      ]
    }
  ]
}