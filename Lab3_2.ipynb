{
  "nbformat": 4,
  "nbformat_minor": 0,
  "metadata": {
    "colab": {
      "provenance": [],
      "authorship_tag": "ABX9TyMXsxmlgJdT5iFxVxruKind",
      "include_colab_link": true
    },
    "kernelspec": {
      "name": "python3",
      "display_name": "Python 3"
    },
    "language_info": {
      "name": "python"
    }
  },
  "cells": [
    {
      "cell_type": "markdown",
      "metadata": {
        "id": "view-in-github",
        "colab_type": "text"
      },
      "source": [
        "<a href=\"https://colab.research.google.com/github/kthanikonda/DataEngineering/blob/main/Lab3_2.ipynb\" target=\"_parent\"><img src=\"https://colab.research.google.com/assets/colab-badge.svg\" alt=\"Open In Colab\"/></a>"
      ]
    },
    {
      "cell_type": "code",
      "execution_count": 11,
      "metadata": {
        "colab": {
          "base_uri": "https://localhost:8080/"
        },
        "id": "gYRH2_Zi1fFM",
        "outputId": "c28f68f1-d600-4b20-c0c8-0e08a43135e9"
      },
      "outputs": [
        {
          "output_type": "stream",
          "name": "stdout",
          "text": [
            "Enter the city name:portland\n",
            "A. No, it's not raining in Portland, OR right now.\n",
            "B. Yes, it is forecasted to rain in Portland in the next 3 days.\n"
          ]
        }
      ],
      "source": [
        "import requests\n",
        "\n",
        "API_KEY = '864d0b9188440e487de52d32729169ae'\n",
        "CITY = input('Enter the city name:')\n",
        "\n",
        "current_url = f'https://api.openweathermap.org/data/2.5/weather?q={CITY}&appid={API_KEY}&units=metric'\n",
        "current_response = requests.get(current_url).json()\n",
        "\n",
        "\n",
        "if 'rain' in current_response:\n",
        "    print(\"A. Yes, it's raining in Portland, OR right now.\")\n",
        "else:\n",
        "    print(\"A. No, it's not raining in Portland, OR right now.\")\n",
        "\n",
        "\n",
        "forecast_url = f'https://api.openweathermap.org/data/2.5/forecast?q={CITY}&appid={API_KEY}&units=metric'\n",
        "forecast_response = requests.get(forecast_url).json()\n",
        "\n",
        "if forecast_response.get('cod') != \"200\":\n",
        "    print(f\"Error fetching forecast: {forecast_response.get('message', 'Unknown error')}\")\n",
        "else:\n",
        "\n",
        "  rain_forecasted = any('rain' in entry for entry in forecast_response['list'])\n",
        "\n",
        "  if rain_forecasted:\n",
        "    print(\"B. Yes, it is forecasted to rain in Portland in the next 3 days.\")\n",
        "  else:\n",
        "    print(\"B. No, it is not forecasted to rain in Portland in the next 3 days.\")\n"
      ]
    }
  ]
}