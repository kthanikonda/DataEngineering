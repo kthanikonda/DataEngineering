{
  "nbformat": 4,
  "nbformat_minor": 0,
  "metadata": {
    "colab": {
      "provenance": []
    },
    "kernelspec": {
      "name": "python3",
      "display_name": "Python 3"
    },
    "language_info": {
      "name": "python"
    }
  },
  "cells": [
    {
      "cell_type": "code",
      "execution_count": null,
      "metadata": {
        "id": "lHGgR-FzO3Zc"
      },
      "outputs": [],
      "source": [
        "! pip install Faker"
      ]
    },
    {
      "cell_type": "code",
      "source": [
        "import pandas as pd\n",
        "import numpy as np\n",
        "import random\n",
        "from faker import Faker\n",
        "from datetime import datetime, timedelta\n",
        "\n",
        "random.seed(42)\n",
        "np.random.seed(42)\n",
        "\n",
        "h1b_counts = {\n",
        "    \"India\": 313944,\n",
        "    \"China\": 49917,\n",
        "    \"Mexico\": 2444,\n",
        "    \"Canada\": 4006,\n",
        "    \"Philippines\": 2736,\n",
        "    \"Taiwan\": 2676,\n",
        "    \"South Korea\": 3928\n",
        "}\n",
        "\n",
        "non_usa_total = sum(h1b_counts.values())\n",
        "\n",
        "countries = [\"USA\"]\n",
        "country_probs = [0.60]\n",
        "\n",
        "for country, count in h1b_counts.items():\n",
        "    countries.append(country)\n",
        "    prob = 0.40 * (count / non_usa_total)\n",
        "    country_probs.append(prob)\n",
        "\n",
        "genders = [\"female\", \"male\", \"nonbinary\"]\n",
        "gender_probs = [0.49, 0.49, 0.02]\n",
        "\n",
        "department_probs = {\n",
        "    \"Engineering\": 0.30,\n",
        "    \"Product Management\": 0.10,\n",
        "    \"Sales\": 0.20,\n",
        "    \"Marketing\": 0.10,\n",
        "    \"Customer Support\": 0.10,\n",
        "    \"IT\": 0.06,\n",
        "    \"Human Resources\": 0.05,\n",
        "    \"Finance\": 0.02,\n",
        "    \"Legal\": 0.02,\n",
        "    \"Administrative\": 0.04,\n",
        "    \"Executive Leadership\": 0.01\n",
        "}\n",
        "\n",
        "country_locales = {\n",
        "    \"USA\": \"en_US\",\n",
        "    \"India\": \"en_IN\",\n",
        "    \"China\": \"zh_CN\",\n",
        "    \"Mexico\": \"es_MX\",\n",
        "    \"Canada\": \"en_CA\",\n",
        "    \"Philippines\": \"en_PH\",\n",
        "    \"Taiwan\": \"zh_TW\",\n",
        "    \"South Korea\": \"ko_KR\"\n",
        "}\n",
        "\n",
        "faker_instances = {loc: Faker(loc) for loc in set(country_locales.values())}\n",
        "faker_us = Faker(\"en_US\")  # For email, phone, SSN\n",
        "\n",
        "roles_by_dept = {\n",
        "    \"Engineering\": [(\"Software Engineer\", (100000, 150000)), (\"Senior Software Engineer\", (170000, 220000))],\n",
        "    \"Product Management\": [(\"Product Manager\", (100000, 150000)), (\"Senior Product Manager\", (125000, 180000))],\n",
        "    \"Sales\": [(\"Sales Executive\", (100000, 180000)), (\"Sales Manager\", (160000, 280000))],\n",
        "    \"Marketing\": [(\"Marketing Manager\", (80000, 104000)), (\"VP of Marketing\", (200000, 300000))],\n",
        "    \"Customer Support\": [(\"Support Specialist\", (50000, 90000)), (\"Customer Support Manager\", (75000, 120000))],\n",
        "    \"IT\": [(\"IT Analyst\", (70000, 100000)), (\"IT Manager\", (95000, 135000))],\n",
        "    \"Human Resources\": [(\"HR Manager\", (90000, 130000)), (\"Recruiter\", (70000, 110000))],\n",
        "    \"Finance\": [(\"Financial Analyst\", (70000, 100000)), (\"Controller\", (120000, 170000))],\n",
        "    \"Legal\": [(\"Legal Counsel\", (150000, 250000)), (\"Legal IT Support\", (46500, 94000))],\n",
        "    \"Administrative\": [(\"Admin Assistant\", (35000, 60000)), (\"IT Services Admin\", (50000, 75000))],\n",
        "    \"Executive Leadership\": [(\"VP\", (200000, 400000)), (\"CFO\", (250000, 500000))]\n",
        "}\n",
        "\n",
        "def random_date(start, end):\n",
        "    return start + timedelta(days=random.randint(0, (end - start).days))\n",
        "\n",
        "def generate_birthdate():\n",
        "    today = datetime.today()\n",
        "    start = today - timedelta(days=65*365)\n",
        "    end = today - timedelta(days=20*365)\n",
        "    return random_date(start, end).date()\n",
        "\n",
        "def generate_hiredate(birthdate):\n",
        "    earliest = max(datetime(2010, 1, 1), datetime.combine(birthdate, datetime.min.time()) + timedelta(days=365*20))\n",
        "    return random_date(earliest, datetime.today()).date()\n",
        "\n",
        "# Data generation\n",
        "records = []\n",
        "for i in range(10000):\n",
        "    emp_id = 100000000 + i\n",
        "    country = random.choices(countries, weights=country_probs)[0]\n",
        "    locale = country_locales[country]\n",
        "    fake = faker_instances[locale]\n",
        "\n",
        "    name = fake.name()\n",
        "    phone = faker_us.phone_number()\n",
        "    email = faker_us.email()\n",
        "    gender = random.choices(genders, weights=gender_probs)[0]\n",
        "    birthdate = generate_birthdate()\n",
        "    hiredate = generate_hiredate(birthdate)\n",
        "\n",
        "    department = random.choices(list(department_probs.keys()), weights=list(department_probs.values()))[0]\n",
        "    role, (low, high) = random.choice(roles_by_dept[department])\n",
        "    salary = random.randint(low, high)\n",
        "    ssid = faker_us.ssn()\n",
        "\n",
        "    records.append({\n",
        "        \"employeeID\": emp_id,\n",
        "        \"CountryOfBirth\": country,\n",
        "        \"name\": name,\n",
        "        \"phone\": phone,\n",
        "        \"email\": email,\n",
        "        \"gender\": gender,\n",
        "        \"birthdate\": birthdate,\n",
        "        \"hiredate\": hiredate,\n",
        "        \"department\": department,\n",
        "        \"role\": role,\n",
        "        \"salary\": salary,\n",
        "        \"SSID\": ssid\n",
        "    })\n",
        "\n",
        "# Create DataFrame and save\n",
        "emp_df = pd.DataFrame(records)\n",
        "emp_df.to_csv(\"emp_df.csv\", index=False)\n",
        "print(\"emp_df created with\", len(emp_df), \"rows and saved to emp_df.csv\")\n"
      ],
      "metadata": {
        "id": "Tbwn8z7oQweZ"
      },
      "execution_count": null,
      "outputs": []
    },
    {
      "cell_type": "code",
      "source": [
        "emp_df.describe(include='all')"
      ],
      "metadata": {
        "id": "XKbw8aNPTVQt"
      },
      "execution_count": null,
      "outputs": []
    },
    {
      "cell_type": "code",
      "source": [
        "emp_df.head(10)"
      ],
      "metadata": {
        "id": "HJu-BGK3TYS4"
      },
      "execution_count": null,
      "outputs": []
    },
    {
      "cell_type": "code",
      "source": [
        "yearly_payroll = emp_df['salary'].sum()\n",
        "print(f\"The company pay in yearly payroll: ${yearly_payroll}\")"
      ],
      "metadata": {
        "id": "3CO4E_gHUREK"
      },
      "execution_count": null,
      "outputs": []
    },
    {
      "cell_type": "code",
      "source": [
        "import matplotlib.pyplot as plt\n",
        "import seaborn as sns\n",
        "\n",
        "count_of_birth = emp_df['CountryOfBirth'].value_counts()\n",
        "\n",
        "plt.figure(figsize=(10, 5))\n",
        "sns.barplot(x=count_of_birth.index, y=count_of_birth.values, palette=\"viridis\")\n",
        "plt.title('Employee Count by Country of Birth')\n",
        "plt.xlabel('Country')\n",
        "plt.ylabel('Number of Employees')\n",
        "plt.xticks(rotation=45)\n",
        "plt.tight_layout()\n",
        "plt.show()"
      ],
      "metadata": {
        "id": "KTymRQ7BVuM3"
      },
      "execution_count": null,
      "outputs": []
    },
    {
      "cell_type": "code",
      "source": [
        "count_of_employees = emp_df['department'].value_counts()\n",
        "\n",
        "plt.figure(figsize=(10, 5))\n",
        "sns.barplot(x=count_of_employees.index, y=count_of_employees.values, palette=\"viridis\")\n",
        "plt.title('Employee Count by Department')\n",
        "plt.xlabel('Department')\n",
        "plt.ylabel('Number of Employees')\n",
        "plt.xticks(rotation=45)\n",
        "plt.tight_layout()\n",
        "plt.show()"
      ],
      "metadata": {
        "id": "FKZtOR4jahud"
      },
      "execution_count": null,
      "outputs": []
    },
    {
      "cell_type": "code",
      "source": [
        "\n",
        "emp_df['hiredate'] = pd.to_datetime(emp_df['hiredate'])\n",
        "\n",
        "emp_df['hire_day'] = emp_df['hiredate'].dt.day_name()\n",
        "hire_day_counts = emp_df['hire_day'].value_counts().reindex(\n",
        "    ['Monday', 'Tuesday', 'Wednesday', 'Thursday', 'Friday', 'Saturday', 'Sunday']\n",
        ")\n",
        "\n",
        "# Plot\n",
        "plt.figure(figsize=(10, 5))\n",
        "sns.barplot(x=hire_day_counts.index, y=hire_day_counts.values, color=\"purple\")\n",
        "plt.title('Number of Employees Hired on Each Day of the Week')\n",
        "plt.xlabel('Day of the Week')\n",
        "plt.ylabel('Number of Employees')\n",
        "plt.xticks(rotation=45)\n",
        "plt.tight_layout()\n",
        "plt.show()"
      ],
      "metadata": {
        "id": "u5xxZN-ZdZRh"
      },
      "execution_count": null,
      "outputs": []
    },
    {
      "cell_type": "code",
      "source": [
        "emp_df['salary'] = pd.to_numeric(emp_df['salary'], errors='coerce')\n",
        "\n",
        "plt.figure(figsize=(10, 5))\n",
        "sns.kdeplot(data=emp_df, x=\"salary\", color=\"#8A2BE2\")\n",
        "plt.title(\"KDE Plot of Employee Salaries\")\n",
        "plt.xlabel(\"Salary (USD)\")\n",
        "plt.ylabel(\"Density\")\n",
        "plt.tight_layout()\n",
        "plt.show()"
      ],
      "metadata": {
        "id": "VfPp-n8S6QTc"
      },
      "execution_count": null,
      "outputs": []
    },
    {
      "cell_type": "code",
      "source": [
        "emp_df['birthdate'] = pd.to_datetime(emp_df['birthdate'])\n",
        "emp_df['birth_year'] = emp_df['birthdate'].dt.year\n",
        "\n",
        "birth_year_counts = emp_df['birth_year'].value_counts().sort_index()\n",
        "\n",
        "plt.figure(figsize=(10, 5))\n",
        "plt.plot(birth_year_counts.index, birth_year_counts.values, marker='o', color=\"#8A2BE2\")\n",
        "plt.title(\"Number of Employees Born Each Year\")\n",
        "plt.xlabel(\"Year of Birth\")\n",
        "plt.ylabel(\"Number of Employees\")\n",
        "plt.grid(True)\n",
        "plt.tight_layout()\n",
        "plt.show()"
      ],
      "metadata": {
        "id": "84hdOoeM7N3z"
      },
      "execution_count": null,
      "outputs": []
    },
    {
      "cell_type": "code",
      "source": [
        "emp_df['salary'] = pd.to_numeric(emp_df['salary'], errors='coerce')\n",
        "\n",
        "plt.figure(figsize=(10, 5))\n",
        "sns.kdeplot(data=emp_df, x=\"salary\", hue=\"department\", common_norm=False)\n",
        "plt.title(\"KDE Plot of Employee Salaries by Department\")\n",
        "plt.xlabel(\"Salary (USD)\")\n",
        "plt.ylabel(\"Density\")\n",
        "plt.tight_layout()\n",
        "plt.show()"
      ],
      "metadata": {
        "id": "fGDBGTFo7yhS"
      },
      "execution_count": null,
      "outputs": []
    },
    {
      "cell_type": "code",
      "source": [
        "print(emp_df.columns)\n"
      ],
      "metadata": {
        "id": "_zTcNr27ZeP3"
      },
      "execution_count": null,
      "outputs": []
    },
    {
      "cell_type": "code",
      "source": [
        "import pandas as pd\n",
        "import numpy as np\n",
        "\n",
        "from datetime import datetime\n",
        "current_year = datetime.now().year\n",
        "\n",
        "emp_df['age'] = current_year - emp_df['birth_year']\n",
        "\n",
        "\n",
        "weights = np.where((emp_df['age'] >= 40) & (emp_df['age'] <= 49), 3, 1)\n",
        "\n",
        "smpl_df = emp_df.sample(n=500, weights=weights, random_state=42)\n"
      ],
      "metadata": {
        "id": "ROYZ0jyiY49o"
      },
      "execution_count": null,
      "outputs": []
    },
    {
      "cell_type": "code",
      "source": [
        "print(smpl_df.describe(include='all'))"
      ],
      "metadata": {
        "id": "5m1zo85yZxJ0"
      },
      "execution_count": null,
      "outputs": []
    },
    {
      "cell_type": "code",
      "source": [
        "print(smpl_df.head(10))"
      ],
      "metadata": {
        "id": "QjdbMblIZzbi"
      },
      "execution_count": null,
      "outputs": []
    },
    {
      "cell_type": "code",
      "source": [
        "import numpy as np\n",
        "\n",
        "np.random.seed(42)\n",
        "\n",
        "salary_std = emp_df['salary'].std()\n",
        "noise = np.random.normal(loc=0, scale=0.1 * salary_std, size=emp_df.shape[0])\n",
        "\n",
        "emp_df['perturbed_salary'] = emp_df['salary'] + noise\n",
        "\n",
        "prtrb_df = emp_df.copy()\n",
        "prtrb_df['salary'] = emp_df['perturbed_salary']\n",
        "prtrb_df.drop(columns=['perturbed_salary'], inplace=True)\n",
        "\n",
        "std_dev = emp_df['salary'].std() * 0.1\n"
      ],
      "metadata": {
        "id": "8qdeQ9mdb77q"
      },
      "execution_count": null,
      "outputs": []
    },
    {
      "cell_type": "code",
      "source": [
        "print(prtrb_df.describe(include='all'))"
      ],
      "metadata": {
        "id": "cCtjabWkcZA8"
      },
      "execution_count": null,
      "outputs": []
    },
    {
      "cell_type": "code",
      "source": [
        "print(prtrb_df.head(10))"
      ],
      "metadata": {
        "id": "SJUDvgewcdT3"
      },
      "execution_count": null,
      "outputs": []
    },
    {
      "cell_type": "code",
      "source": [
        "!pip install ydata-profiling\n"
      ],
      "metadata": {
        "id": "u4rzVPRJdzpU"
      },
      "execution_count": null,
      "outputs": []
    },
    {
      "cell_type": "code",
      "source": [
        "from ydata_profiling import ProfileReport\n",
        "profile = ProfileReport(emp_df, title=\"Employee Data Profile\", explorative=True)\n",
        "profile.to_notebook_iframe()\n"
      ],
      "metadata": {
        "id": "fGWjkgS4d587"
      },
      "execution_count": null,
      "outputs": []
    }
  ]
}